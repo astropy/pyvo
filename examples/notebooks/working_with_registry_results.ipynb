{
 "metadata": {
  "name": "",
  "signature": "sha256:c1a84e3bdc0b1fdcf8fdb353b64aa9e5ada7308238e46bb89ff0cbaf89b070a9"
 },
 "nbformat": 3,
 "nbformat_minor": 0,
 "worksheets": [
  {
   "cells": [
    {
     "cell_type": "markdown",
     "metadata": {},
     "source": [
      "As you can see from the examples in simple_service_discovery,\n",
      "a search will often return more than one record,\n",
      "and so sometimes you need to review some of the\n",
      "resource metadata to determine which one or ones you want.  You may\n",
      "have noticed that the results behave similarly to the results from the\n",
      "data access services. Like them, registry search results are returned\n",
      "as a `~pyvo.registry.regtap.RegistryResults` instance, and each\n",
      "record is represented as a `~pyvo.registry.regtap.RegistryResource` instance. \n",
      "\n",
      "A `~pyvo.registry.regtap.RegistryRecord` record acts like a\n",
      "dictionary where the keys are the column names from the results table;\n",
      "using our NVSS example from simple_service_discovery."
     ]
    },
    {
     "cell_type": "code",
     "collapsed": false,
     "input": [
      "import pyvo as vo\n",
      "colls = vo.regsearch(keywords=[\"NVSS\"], servicetype='sia')\n",
      "nvss = colls[0]\n",
      "print(nvss.res_title)"
     ],
     "language": "python",
     "metadata": {},
     "outputs": [
      {
       "output_type": "stream",
       "stream": "stdout",
       "text": [
        "NVSS\n"
       ]
      }
     ],
     "prompt_number": 1
    },
    {
     "cell_type": "code",
     "collapsed": false,
     "input": [
      "nvss.keys()"
     ],
     "language": "python",
     "metadata": {},
     "outputs": [
      {
       "metadata": {},
       "output_type": "pyout",
       "prompt_number": 2,
       "text": [
        "[u'cap_index',\n",
        " u'res_description',\n",
        " u'intf_type',\n",
        " u'standard_id',\n",
        " u'cap_index_',\n",
        " u'url_use',\n",
        " u'res_type',\n",
        " u'intf_role',\n",
        " u'cap_description',\n",
        " u'wsdl_url',\n",
        " u'source_format',\n",
        " u'res_version',\n",
        " u'ivoid__',\n",
        " u'content_level',\n",
        " u'source_value',\n",
        " u'std_version',\n",
        " u'updated',\n",
        " u'short_name',\n",
        " u'query_type',\n",
        " u'creator_seq',\n",
        " u'intf_index',\n",
        " u'content_type',\n",
        " u'harvested_from',\n",
        " u'res_title',\n",
        " u'region_of_regard',\n",
        " u'created',\n",
        " u'rights',\n",
        " u'waveband',\n",
        " u'reference_url',\n",
        " u'ivoid',\n",
        " u'cap_type',\n",
        " u'access_url',\n",
        " u'ivoid_',\n",
        " u'result_type']"
       ]
      }
     ],
     "prompt_number": 2
    },
    {
     "cell_type": "markdown",
     "metadata": {},
     "source": [
      "If you are looking for a particular data collection or catalog, as we\n",
      "did above when we looked for the NVSS archive, often simply reviewing\n",
      "the titles is sufficient.  Other times, particularly when you are not\n",
      "sure what you are looking for, it helps to look deeper.  \n",
      "\n",
      "The resource description, available via the \n",
      "`~pyvo.registry.regtap.ResourceRecord.res_description` property,\n",
      "tends to be the most revealing.  It contains a paragraph (or two)\n",
      "summarizing the catalog or data collection.  It will often describe\n",
      "the scientific intent behind the collection.  \n",
      "\n",
      "The `~pyvo.registry.regtap.RegistryResource.short_name` can also be\n",
      "helpful, as well.  This name is meant to be short--16 characters or\n",
      "fewer; consequently, the value is often includes the abbreviation for the\n",
      "project or observatory that produced the collection or catalog.  \n",
      "\n",
      "A selection of the resource metadata, including the title, shortname and\n",
      "desription, can be printed out in a summary form with\n",
      "the `~pyvo.registry.regtap.RegistryResource.describe` function."
     ]
    },
    {
     "cell_type": "code",
     "collapsed": false,
     "input": [
      "nvss.describe()"
     ],
     "language": "python",
     "metadata": {},
     "outputs": [
      {
       "output_type": "stream",
       "stream": "stdout",
       "text": [
        "Image Data Service\n",
        "NVSS\n",
        "Short Name: NVSS\n",
        "IVOA Identifier: ivo://nasa.heasarc/skyview/nvss\n",
        "Base URL: http://skyview.gsfc.nasa.gov/cgi-bin/vo/sia.pl?survey=nvss&\n",
        "\n",
        "The NRAO VLA Sky Survey is currently underway at the VLA and data is made\n",
        "available to the public as soon as processed.  <i> SkyView </i> has copied the\n",
        "NVSS intensity data from the NRAO FTP site.  The full NVSS survey data\n",
        "includes information on other Stokes parameters. Note that <i> SkyView </i>\n",
        "may be slightly out of date with regard to the latest releases of NVSS data.\n",
        "The current information was copied in November 1997.\n",
        "\n",
        "Observations for the 1.4 GHz NRAO VLA Sky Survey (NVSS) began in 1993\n",
        "September and should cover the sky north of -40 deg declination (82% of the\n",
        "celestial sphere) before the end of 1996.  The principal data products will\n",
        "be: <ol> <li> A set of 2326 continuum map \"cubes,\" each covering 4 deg X 4 deg\n",
        "with three planes containing Stokes I, Q, and U images.  These maps were made\n",
        "with a relatively large restoring beam (45 arcsec FWHM) to yield the high\n",
        "surface-brightness sensitivity needed for completeness and photometric\n",
        "accuracy.  Their rms brightness fluctuations are about 0.45 mJy/beam = 0.14 K\n",
        "(Stokes I) and 0.29 mJy/beam = 0.09 K (Stokes Q and U).  The rms uncertainties\n",
        "in right ascension and declination vary from 0.3 arcsec for strong (S > 30\n",
        "mJy) point sources to 5 arcsec for the faintest (S = 2.5 mJy) detectable\n",
        "sources.\n",
        "\n",
        "<li>  Lists of discrete sources. </ol>\n",
        "\n",
        "The NVSS is being made as a service to the astronomical community, and the\n",
        "data products are being released as soon as they are produced and verified.\n",
        "<P> The NVSS survey is included on the <b>SkyView High Resolution Radio\n",
        "Coverage </b>map <http://skyview.gsfc.nasa.gov/images/high_res_radio.jpg>.\n",
        "This map shows coverage on an Aitoff projection of the sky in equatorial\n",
        "coordinates.\n",
        "\n",
        "Subjects: NVSS\n",
        "Waveband Coverage: radio\n"
       ]
      }
     ],
     "prompt_number": 3
    },
    {
     "cell_type": "markdown",
     "metadata": {},
     "source": [
      "Registry Records can be converted to a service object"
     ]
    },
    {
     "cell_type": "code",
     "collapsed": false,
     "input": [
      "nvss = colls[0].service  # converts record to service object\n",
      "print(nvss.baseurl)\n",
      "query = nvss.create_query(size=0.25, format=\"image/fits\")"
     ],
     "language": "python",
     "metadata": {},
     "outputs": [
      {
       "output_type": "stream",
       "stream": "stdout",
       "text": [
        "http://skyview.gsfc.nasa.gov/cgi-bin/vo/sia.pl?survey=nvss&\n"
       ]
      }
     ],
     "prompt_number": 4
    },
    {
     "cell_type": "markdown",
     "metadata": {},
     "source": [
      "Thus, not only does this service instance contain the base URL but it\n",
      "also includes all of the metadata from the registry that desribes the\n",
      "service.  With this service object, we can either call its \n",
      "`~pyvo.dal.sia.SIAService.search` function directly or \n",
      "create query objects to get cutouts for a whole list of sources."
     ]
    },
    {
     "cell_type": "markdown",
     "metadata": {},
     "source": [
      "Our discussion of service metadata offers an opportunity to highlight\n",
      "another important property, the service's *IVOA Identifier* (sometimes\n",
      "referred to as its *ivoid*).  This is a globally-unique identifier\n",
      "that takes the form of a \n",
      "`URI <http://en.wikipedia.org/wiki/Uniform_resource_identifier>`_:"
     ]
    },
    {
     "cell_type": "code",
     "collapsed": false,
     "input": [
      "colls = vo.regsearch(keywords=[\"NVSS\"], servicetype='sia')\n",
      "for coll in colls:\n",
      "    print coll.ivoid"
     ],
     "language": "python",
     "metadata": {},
     "outputs": [
      {
       "output_type": "stream",
       "stream": "stdout",
       "text": [
        "ivo://nasa.heasarc/skyview/nvss\n",
        "ivo://nasa.heasarc/skyview/sumss\n"
       ]
      }
     ],
     "prompt_number": 5
    },
    {
     "cell_type": "markdown",
     "metadata": {},
     "source": [
      "This identifier can be used to uniquely retrieve a service desription\n",
      "from the registry."
     ]
    },
    {
     "cell_type": "code",
     "collapsed": false,
     "input": [
      "nvss = vo.registry.ivoid2service('ivo://nasa.heasarc/skyview/nvss')\n",
      "nvss.baseurl"
     ],
     "language": "python",
     "metadata": {},
     "outputs": [
      {
       "metadata": {},
       "output_type": "pyout",
       "prompt_number": 6,
       "text": [
        "'http://skyview.gsfc.nasa.gov/cgi-bin/vo/sia.pl?survey=nvss&'"
       ]
      }
     ],
     "prompt_number": 6
    },
    {
     "cell_type": "code",
     "collapsed": false,
     "input": [
      "cutouts1 = nvss.search(pos=(148.8888, 69.065), size=0.2)\n",
      "nvssq = nvss.create_query(size=0.2)  # or create a query object\n",
      "nvssq.pos = (350.85, 58.815)\n",
      "cutouts2 = nvssq.execute()"
     ],
     "language": "python",
     "metadata": {},
     "outputs": [
      {
       "output_type": "stream",
       "stream": "stderr",
       "text": [
        "WARNING: W01: dal_query:5:2: W01: Array uses commas rather than whitespace [astropy.io.votable.exceptions]\n",
        "WARNING:astropy:W01: dal_query:5:2: W01: Array uses commas rather than whitespace\n"
       ]
      },
      {
       "output_type": "stream",
       "stream": "stderr",
       "text": [
        "WARNING: W01: dal_query:7:2: W01: Array uses commas rather than whitespace [astropy.io.votable.exceptions]\n",
        "WARNING:astropy:W01: dal_query:7:2: W01: Array uses commas rather than whitespace\n"
       ]
      },
      {
       "output_type": "stream",
       "stream": "stderr",
       "text": [
        "WARNING: W30: dal_query:9:2: W30: Invalid literal for float 'ALL'.  Treating as empty. [astropy.io.votable.exceptions]\n",
        "WARNING:astropy:W30: dal_query:9:2: W30: Invalid literal for float 'ALL'.  Treating as empty.\n"
       ]
      },
      {
       "output_type": "stream",
       "stream": "stderr",
       "text": [
        "WARNING: W01: dal_query:11:2: W01: Array uses commas rather than whitespace [astropy.io.votable.exceptions]\n",
        "WARNING:astropy:W01: dal_query:11:2: W01: Array uses commas rather than whitespace\n"
       ]
      },
      {
       "output_type": "stream",
       "stream": "stderr",
       "text": [
        "WARNING: W01: dal_query:9:2: W01: Array uses commas rather than whitespace [astropy.io.votable.exceptions]\n",
        "WARNING:astropy:W01: dal_query:9:2: W01: Array uses commas rather than whitespace\n"
       ]
      },
      {
       "output_type": "stream",
       "stream": "stderr",
       "text": [
        "WARNING: W30: dal_query:9:2: W30: Invalid literal for float 'Image/FITS'.  Treating as empty. [astropy.io.votable.exceptions]\n",
        "WARNING:astropy:W30: dal_query:9:2: W30: Invalid literal for float 'Image/FITS'.  Treating as empty.\n"
       ]
      },
      {
       "output_type": "stream",
       "stream": "stderr",
       "text": [
        "WARNING: W30: dal_query:9:2: W30: Invalid literal for float 'Image/JPEG'.  Treating as empty. [astropy.io.votable.exceptions]\n",
        "WARNING:astropy:W30: dal_query:9:2: W30: Invalid literal for float 'Image/JPEG'.  Treating as empty.\n"
       ]
      }
     ],
     "prompt_number": 7
    },
    {
     "cell_type": "markdown",
     "metadata": {},
     "source": [
      "As we end this discussion of the service objects, you can hopefully\n",
      "see that there is a straight-forward chain of discovery classes that\n",
      "connect the registry down through to a dataset.  Spelled out in all\n",
      "its detail, it looks like this:"
     ]
    },
    {
     "cell_type": "code",
     "collapsed": false,
     "input": [
      "services = vo.regsearch(keywords=[\"NVSS\"],\n",
      "                        servicetype='sia')     # RegistryResults\n",
      "nvss = services[0]                             # RegistryResource\n",
      "nvsss = nvss.service                           # SIAService\n",
      "nq = nvss.create_query(pos=(350.85, 58.815),\n",
      "                      size=0.25, \n",
      "                      format=\"image/fits\")     # SIAQuery\n",
      "images = nq.execute()                          # SIAResults\n",
      "firstim = images[0]                            # SIARecord\n",
      "\n",
      "print(type(services))\n",
      "print(type(nvss))\n",
      "print(type(nq))\n",
      "print(type(images))\n",
      "print(type(firstim))"
     ],
     "language": "python",
     "metadata": {},
     "outputs": [
      {
       "output_type": "stream",
       "stream": "stdout",
       "text": [
        "<class 'pyvo.registry.regtap.RegistryResults'>\n",
        "<class 'pyvo.dal.sia.SIAService'>\n",
        "<class 'pyvo.dal.sia.SIAQuery'>\n",
        "<class 'pyvo.dal.sia.SIAResults'>\n",
        "<class 'pyvo.dal.sia.SIARecord'>\n"
       ]
      }
     ],
     "prompt_number": 12
    },
    {
     "cell_type": "markdown",
     "metadata": {},
     "source": [
      "Most of the time, it's not necessary to follow all these steps\n",
      "yourself, so there are functions and methods that provide syntactic\n",
      "shortcuts.  However, when you need some finer control over the\n",
      "process, it is possible to jump off the fast track and work directly\n",
      "with an underlying object.  "
     ]
    }
   ],
   "metadata": {}
  }
 ]
}